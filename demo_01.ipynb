{
 "cells": [
  {
   "cell_type": "code",
   "execution_count": 1,
   "metadata": {},
   "outputs": [],
   "source": [
    "import numpy as np"
   ]
  },
  {
   "cell_type": "code",
   "execution_count": 6,
   "metadata": {},
   "outputs": [
    {
     "data": {
      "text/plain": [
       "array([[5, 1, 2],\n",
       "       [1, 1, 1],\n",
       "       [4, 5, 2]])"
      ]
     },
     "execution_count": 6,
     "metadata": {},
     "output_type": "execute_result"
    }
   ],
   "source": [
    "# ratings = np.random.randint(1, 6, size=(3, 3))\n",
    "ratings = np.array([[5, 1, 2],\n",
    "                    [1, 1, 1],\n",
    "                    [4, 5, 2]])\n",
    "ratings"
   ]
  },
  {
   "cell_type": "code",
   "execution_count": 7,
   "metadata": {},
   "outputs": [
    {
     "name": "stdout",
     "output_type": "stream",
     "text": [
      "Ma trận ratings:\n",
      "\n",
      "Conan  Aquaman  Mai \n",
      "\n"
     ]
    }
   ],
   "source": [
    "movies = [\"Conan\", \"Aquaman\", \"Mai\"]\n",
    "people = [\"Ba\", \"Mẹ\", \"Con\"]\n",
    "\n",
    "# In ra ma trận ratings\n",
    "print(\"Ma trận ratings:\\n\")\n",
    "print(\"  \".join(movies), \"\\n\")"
   ]
  },
  {
   "cell_type": "code",
   "execution_count": 8,
   "metadata": {},
   "outputs": [
    {
     "name": "stdout",
     "output_type": "stream",
     "text": [
      "Ba    [5 1 2]\n",
      "Mẹ    [1 1 1]\n",
      "Con    [4 5 2]\n"
     ]
    }
   ],
   "source": [
    "for i, person in enumerate(people):\n",
    "    print(person, \"  \", ratings[i])"
   ]
  },
  {
   "cell_type": "code",
   "execution_count": 20,
   "metadata": {},
   "outputs": [
    {
     "name": "stdout",
     "output_type": "stream",
     "text": [
      "\n",
      "Điểm trung bình có trọng số của các bộ phim:\n",
      "Conan: 2.4615\n",
      "Aquaman: 1.3077\n",
      "Mai: 1.3846\n",
      "\n",
      "Thứ tự sắp xếp các bộ phim theo điểm trung bình có trọng số:\n",
      "Conan: 2.4615\n",
      "Mai: 1.3846\n",
      "Aquaman: 1.3077\n",
      "\n",
      "Bộ phim được đề xuất: Conan\n"
     ]
    }
   ],
   "source": [
    "# In ra điểm trung bình có trọng số của các bộ phim\n",
    "print(\"\\nĐiểm trung bình có trọng số của các bộ phim:\")\n",
    "for movie, score in zip(movies, weighted_ratings):\n",
    "    print(f\"{movie}: {score:.4f}\")\n",
    "\n",
    "# Sắp xếp các bộ phim theo điểm trung bình có trọng số\n",
    "sorted_movie_indices = np.argsort(weighted_ratings)[::-1]\n",
    "sorted_movies = [movies[i] for i in sorted_movie_indices]\n",
    "sorted_scores = [weighted_ratings[i] for i in sorted_movie_indices]\n",
    "\n",
    "print(\"\\nThứ tự sắp xếp các bộ phim theo điểm trung bình có trọng số:\")\n",
    "for movie, score in zip(sorted_movies, sorted_scores):\n",
    "    print(f\"{movie}: {score:.4f}\")\n",
    "\n",
    "# Bước 5: Đề xuất bộ phim có điểm trung bình có trọng số cao nhất\n",
    "recommended_movie_index = np.argmax(weighted_ratings)\n",
    "recommended_movie = movies[recommended_movie_index]\n",
    "\n",
    "# In ra bộ phim được đề xuất\n",
    "print(f\"\\nBộ phim được đề xuất: {recommended_movie}\")"
   ]
  },
  {
   "cell_type": "code",
   "execution_count": 3,
   "metadata": {},
   "outputs": [
    {
     "name": "stdout",
     "output_type": "stream",
     "text": [
      "Ma trận ratings:\n",
      "\n",
      "Conan  Aquaman  Mai \n",
      "\n",
      "Ba    [2 2 4]\n",
      "Mẹ    [3 5 3]\n",
      "Con    [4 1 3]\n",
      "\n",
      "Trọng số của từng người:\n",
      "Ba: 0.4444\n",
      "Mẹ: 0.1111\n",
      "Con: 0.4444\n",
      "\n",
      "Điểm trung bình có trọng số của các bộ phim:\n",
      "Conan: 3.0000\n",
      "Aquaman: 1.8889\n",
      "Mai: 3.4444\n",
      "\n",
      "Thứ tự sắp xếp các bộ phim theo điểm trung bình có trọng số:\n",
      "Mai: 3.4444\n",
      "Conan: 3.0000\n",
      "Aquaman: 1.8889\n",
      "\n",
      "Bộ phim được đề xuất: Mai\n"
     ]
    }
   ],
   "source": [
    "def ReLU(k):\n",
    "    if k < 0:\n",
    "        return 0\n",
    "    return k\n",
    "\n",
    "# Bước 1: Tính c1 và c2 cho mỗi người\n",
    "def calculate_c(v1, v2, v3):\n",
    "    c1 = 0\n",
    "    c2 = 0\n",
    "    for i in range(len(v1)):\n",
    "        c1 += ReLU(v2[i] - v1[i])\n",
    "        c2 += ReLU(v3[i] - v1[i])\n",
    "    return c1, c2\n",
    "\n",
    "\n",
    "# Tạo danh sách để lưu trữ các giá trị c_max\n",
    "c_max_values = []\n",
    "\n",
    "# Tính c1max, c2max, c3max cho từng người\n",
    "for i in range(ratings.shape[0]):\n",
    "    # Lấy các chỉ số của các vector khác\n",
    "    other_indices = [j for j in range(ratings.shape[0]) if j != i]\n",
    "\n",
    "    # Lấy các vector khác\n",
    "    v1 = ratings[i]\n",
    "    v2 = ratings[other_indices[0]]\n",
    "    v3 = ratings[other_indices[1]]\n",
    "\n",
    "    # Tính c1 và c2\n",
    "    c1, c2 = calculate_c(v1, v2, v3)\n",
    "\n",
    "    # Lưu giá trị lớn nhất của c1 và c2\n",
    "    c_max_values.append(max(c1, c2))\n",
    "\n",
    "# Bước 2: Tính tổng các giá trị c_max\n",
    "sum_c_max = sum(c_max_values)\n",
    "\n",
    "# Bước 3: Tính trọng số\n",
    "weights = [c_max / sum_c_max for c_max in c_max_values]\n",
    "\n",
    "# In ra các trọng số\n",
    "print(\"\\nTrọng số của từng người:\")\n",
    "for person, weight in zip(people, weights):\n",
    "    print(f\"{person}: {weight:.4f}\")\n",
    "\n",
    "# Bước 4: Tính điểm trung bình có trọng số cho mỗi bộ phim\n",
    "weighted_ratings = np.zeros(ratings.shape[1])\n",
    "for j in range(ratings.shape[1]):\n",
    "    weighted_sum = 0\n",
    "    for i in range(ratings.shape[0]):\n",
    "        weighted_sum += ratings[i][j] * weights[i]\n",
    "    weighted_ratings[j] = weighted_sum\n",
    "\n",
    "# In ra điểm trung bình có trọng số của các bộ phim\n",
    "print(\"\\nĐiểm trung bình có trọng số của các bộ phim:\")\n",
    "for movie, score in zip(movies, weighted_ratings):\n",
    "    print(f\"{movie}: {score:.4f}\")\n",
    "\n",
    "# Sắp xếp các bộ phim theo điểm trung bình có trọng số\n",
    "sorted_movie_indices = np.argsort(weighted_ratings)[::-1]\n",
    "sorted_movies = [movies[i] for i in sorted_movie_indices]\n",
    "sorted_scores = [weighted_ratings[i] for i in sorted_movie_indices]\n",
    "\n",
    "print(\"\\nThứ tự sắp xếp các bộ phim theo điểm trung bình có trọng số:\")\n",
    "for movie, score in zip(sorted_movies, sorted_scores):\n",
    "    print(f\"{movie}: {score:.4f}\")\n",
    "\n",
    "# Bước 5: Đề xuất bộ phim có điểm trung bình có trọng số cao nhất\n",
    "recommended_movie_index = np.argmax(weighted_ratings)\n",
    "recommended_movie = movies[recommended_movie_index]\n",
    "\n",
    "# In ra bộ phim được đề xuất\n",
    "print(f\"\\nBộ phim được đề xuất: {recommended_movie}\")"
   ]
  },
  {
   "cell_type": "code",
   "execution_count": null,
   "metadata": {},
   "outputs": [],
   "source": [
    "tôi đã phát hiện ra một hướng mới như sau, bạn hãy đọc code của tôi xem ý tưởng của tôi là gì, và code dưới là ví dụ về việc khuyến nghị phim cho nhóm dựa trên tính toán vector với hàm ReLU để tính toán ra trọng số xác định ai sẽ \"khó tính\" từ đó trọng số của người đó cao hơn và những phim đề xuất cho nhóm có độ tương đồng cao hơn với người \"khó tính\" đó đã rating:\n",
    "import numpy as np\n",
    "\n",
    "# Đánh giá cho các bộ phim của từng người\n",
    "ratings = np.random.randint(1, 6, size=(3, 3))\n",
    "\n",
    "movies = [\"Conan\", \"Aquaman\", \"Mai\"]\n",
    "people = [\"Ba\", \"Mẹ\", \"Con\"]\n",
    "\n",
    "# In ra ma trận ratings\n",
    "print(\"Ma trận ratings:\\n\")\n",
    "print(\"  \".join(movies), \"\\n\")\n",
    "for i, person in enumerate(people):\n",
    "    print(person, \"  \", ratings[i])\n",
    "\n",
    "def ReLU(k):\n",
    "    if k < 0:\n",
    "        return 0\n",
    "    return k\n",
    "\n",
    "# Bước 1: Tính c1 và c2 cho mỗi người\n",
    "def calculate_c(v1, v2, v3):\n",
    "    c1 = 0\n",
    "    c2 = 0\n",
    "    for i in range(len(v1)):\n",
    "        c1 += ReLU(v2[i] - v1[i])\n",
    "        c2 += ReLU(v3[i] - v1[i])\n",
    "    return c1, c2\n",
    "\n",
    "\n",
    "# Tạo danh sách để lưu trữ các giá trị c_max\n",
    "c_max_values = []\n",
    "\n",
    "# Tính c1max, c2max, c3max cho từng người\n",
    "for i in range(ratings.shape[0]):\n",
    "    # Lấy các chỉ số của các vector khác\n",
    "    other_indices = [j for j in range(ratings.shape[0]) if j != i]\n",
    "\n",
    "    # Lấy các vector khác\n",
    "    v1 = ratings[i]\n",
    "    v2 = ratings[other_indices[0]]\n",
    "    v3 = ratings[other_indices[1]]\n",
    "\n",
    "    # Tính c1 và c2\n",
    "    c1, c2 = calculate_c(v1, v2, v3)\n",
    "\n",
    "    # Lưu giá trị lớn nhất của c1 và c2\n",
    "    c_max_values.append(max(c1, c2))\n",
    "\n",
    "# Bước 2: Tính tổng các giá trị c_max\n",
    "sum_c_max = sum(c_max_values)\n",
    "\n",
    "# Bước 3: Tính trọng số\n",
    "weights = [c_max / sum_c_max for c_max in c_max_values]\n",
    "\n",
    "# In ra các trọng số\n",
    "print(\"\\nTrọng số của từng người:\")\n",
    "for person, weight in zip(people, weights):\n",
    "    print(f\"{person}: {weight:.4f}\")\n",
    "\n",
    "# Bước 4: Tính điểm trung bình có trọng số cho mỗi bộ phim\n",
    "weighted_ratings = np.zeros(ratings.shape[1])\n",
    "for j in range(ratings.shape[1]):\n",
    "    weighted_sum = 0\n",
    "    for i in range(ratings.shape[0]):\n",
    "        weighted_sum += ratings[i][j] * weights[i]\n",
    "    weighted_ratings[j] = weighted_sum\n",
    "\n",
    "# In ra điểm trung bình có trọng số của các bộ phim\n",
    "print(\"\\nĐiểm trung bình có trọng số của các bộ phim:\")\n",
    "for movie, score in zip(movies, weighted_ratings):\n",
    "    print(f\"{movie}: {score:.4f}\")\n",
    "\n",
    "# Sắp xếp các bộ phim theo điểm trung bình có trọng số\n",
    "sorted_movie_indices = np.argsort(weighted_ratings)[::-1]\n",
    "sorted_movies = [movies[i] for i in sorted_movie_indices]\n",
    "sorted_scores = [weighted_ratings[i] for i in sorted_movie_indices]\n",
    "\n",
    "print(\"\\nThứ tự sắp xếp các bộ phim theo điểm trung bình có trọng số:\")\n",
    "for movie, score in zip(sorted_movies, sorted_scores):\n",
    "    print(f\"{movie}: {score:.4f}\")\n",
    "\n",
    "# Bước 5: Đề xuất bộ phim có điểm trung bình có trọng số cao nhất\n",
    "recommended_movie_index = np.argmax(weighted_ratings)\n",
    "recommended_movie = movies[recommended_movie_index]\n",
    "\n",
    "# In ra bộ phim được đề xuất\n",
    "print(f\"\\nBộ phim được đề xuất: {recommended_movie}\")"
   ]
  }
 ],
 "metadata": {
  "kernelspec": {
   "display_name": "Python 3",
   "language": "python",
   "name": "python3"
  },
  "language_info": {
   "codemirror_mode": {
    "name": "ipython",
    "version": 3
   },
   "file_extension": ".py",
   "mimetype": "text/x-python",
   "name": "python",
   "nbconvert_exporter": "python",
   "pygments_lexer": "ipython3",
   "version": "3.10.8"
  }
 },
 "nbformat": 4,
 "nbformat_minor": 2
}
